{
 "cells": [
  {
   "cell_type": "code",
   "execution_count": 95,
   "metadata": {},
   "outputs": [
    {
     "name": "stdout",
     "output_type": "stream",
     "text": [
      "{'A': ['Akash', 'Adam', 'Ajinkya', 'Alka'], 'C': 'Chloe', 'D': ['Dami', 'Divya'], 'G': ['Gaurav', 'Gilmara'], 'I': 'Imara', 'J': ['Jainam', 'Jerry'], 'L': 'Leul', 'M': 'Mehrnaz', 'O': 'Ola', 'P': 'Pray', 'R': ['Rasha', 'Riley'], 'S': ['Suga', 'Sowjanya', 'Saman', 'Saloni', 'Sidney'], 'T': ['Temi', 'Tony']}\n"
     ]
    },
    {
     "data": {
      "text/plain": [
       "13"
      ]
     },
     "execution_count": 95,
     "metadata": {},
     "output_type": "execute_result"
    }
   ],
   "source": [
    "#Q1 Create a dictionary for all participants in the JDA program.\n",
    "#Keys should be the first letter in their names, Values should be their names.\n",
    "#[Hint] dic={\"l\":(Leul),\"J\":(Jerry,Jainam)........}\n",
    "JDA_Participants={'A':[\"Akash\",\"Adam\",\"Ajinkya\",\"Alka\"],\n",
    "                  'C':\"Chloe\",'D':[\"Dami\",\"Divya\"],\n",
    "                  'G':[\"Gaurav\",\"Gilmara\"],\n",
    "                  'I':\"Imara\",\n",
    "                  'J':[\"Jainam\",\"Jerry\"],\n",
    "                  'L':\"Leul\",\n",
    "                  'M':\"Mehrnaz\",\n",
    "                  'O':\"Ola\",\n",
    "                  'P':\"Pray\",\n",
    "                  'R':[\"Rasha\",\"Riley\"],\n",
    "                  'S':[\"Suga\",\"Sowjanya\",\"Saman\",\"Saloni\",\"Sidney\"],\n",
    "                  'T':[\"Temi\",\"Tony\"]}\n",
    "print(JDA_Participants)\n",
    "len(JDA_Participants)"
   ]
  },
  {
   "cell_type": "code",
   "execution_count": 96,
   "metadata": {},
   "outputs": [
    {
     "name": "stdout",
     "output_type": "stream",
     "text": [
      "dict_keys(['A', 'C', 'D', 'G', 'I', 'J', 'L', 'M', 'O', 'P', 'R', 'S', 'T'])\n"
     ]
    }
   ],
   "source": [
    "#Q2 What are the keys of your dictionary\n",
    "keys=JDA_Participants.keys()\n",
    "print(keys)"
   ]
  },
  {
   "cell_type": "code",
   "execution_count": 97,
   "metadata": {},
   "outputs": [
    {
     "name": "stdout",
     "output_type": "stream",
     "text": [
      "dict_values([['Akash', 'Adam', 'Ajinkya', 'Alka'], 'Chloe', ['Dami', 'Divya'], ['Gaurav', 'Gilmara'], 'Imara', ['Jainam', 'Jerry'], 'Leul', 'Mehrnaz', 'Ola', 'Pray', ['Rasha', 'Riley'], ['Suga', 'Sowjanya', 'Saman', 'Saloni', 'Sidney'], ['Temi', 'Tony']])\n"
     ]
    }
   ],
   "source": [
    "#Q3 What are the values of your dictionary\n",
    "values=JDA_Participants.values()\n",
    "print(values)"
   ]
  },
  {
   "cell_type": "code",
   "execution_count": 100,
   "metadata": {},
   "outputs": [
    {
     "name": "stdout",
     "output_type": "stream",
     "text": [
      "['Jainam', 'Jerry']\n",
      "Imara\n",
      "Mehrnaz\n",
      "Chloe\n",
      "['Akash', 'Adam', 'Ajinkya', 'Alka']\n"
     ]
    }
   ],
   "source": [
    "#Q4 Find participant's names that start with J,I,M,C,A\n",
    "names=[ 'J','I','M','C','A']\n",
    "for name in names:\n",
    "    print(JDA_Participants[name])\n"
   ]
  },
  {
   "cell_type": "code",
   "execution_count": 31,
   "metadata": {},
   "outputs": [
    {
     "name": "stdout",
     "output_type": "stream",
     "text": [
      "{'A': ['Akash', 'Adam', 'Ajinkya', 'Alka'], 'C': 'Chloe', 'D': ['Dami', 'Divya'], 'G': ['Gaurav', 'Gilmara'], 'I': 'Imara', 'J': ['Jainam', 'Jerry'], 'L': 'Leul', 'M': 'Mehrnaz', 'O': 'Ola', 'P': 'Pray', 'R': ['Rasha', 'Riley'], 'S': ['Suga', 'Sowjanya', 'Saman', 'Saloni', 'Sidney'], 'T': ['Temi', 'Tony'], ('K', 'PD'): 'Kristina'}\n"
     ]
    }
   ],
   "source": [
    "#Q5 Add the following to your dictionary \n",
    "# Key<(K,PD)>, Value<(Kristina)\n",
    "JDA_Participants['K','PD']=\"Kristina\"\n",
    "print(JDA_Participants)"
   ]
  },
  {
   "cell_type": "code",
   "execution_count": 32,
   "metadata": {},
   "outputs": [
    {
     "name": "stdout",
     "output_type": "stream",
     "text": [
      "length of my dictionary is: 14\n"
     ]
    }
   ],
   "source": [
    "#Q6 Find the length of your dictionary \n",
    "Length=len(JDA_Participants)\n",
    "print(\"length of my dictionary is:\",Length)"
   ]
  },
  {
   "cell_type": "code",
   "execution_count": 33,
   "metadata": {},
   "outputs": [
    {
     "name": "stdout",
     "output_type": "stream",
     "text": [
      "{'A': ['Akash', 'Adam', 'Ajinkya', 'Alka'], 'C': 'Chloe', 'D': ['Dami', 'Divya'], 'G': ['Gaurav', 'Gilmara'], 'I': 'Imara', 'J': ['Jainam', 'Jerry'], 'L': 'Leul', 'M': 'Mehrnaz', 'O': 'Ola', 'P': 'Pray', 'R': ['Rasha', 'Riley'], 'S': ['Suga', 'Sowjanya', 'Saman', 'Saloni', 'Sidney'], 'T': ['Temi', 'Tony'], ('K', 'PD'): 'Kristina', ('S', 'Instructor'): 'Sarah'}\n"
     ]
    }
   ],
   "source": [
    "#Q7 Add the following to your dictionary \n",
    "# Key<(S,Instructor)>, Value<(Sarah)>\n",
    "JDA_Participants['S','Instructor']=\"Sarah\"\n",
    "print(JDA_Participants)"
   ]
  },
  {
   "cell_type": "code",
   "execution_count": 34,
   "metadata": {},
   "outputs": [
    {
     "name": "stdout",
     "output_type": "stream",
     "text": [
      "Length of JDA participants is 15\n"
     ]
    }
   ],
   "source": [
    "#Q8 Find the length of your dictionary \n",
    "Length=len(JDA_Participants)\n",
    "print(\"Length of JDA participants is\",Length)"
   ]
  },
  {
   "cell_type": "code",
   "execution_count": 35,
   "metadata": {},
   "outputs": [
    {
     "name": "stdout",
     "output_type": "stream",
     "text": [
      "New dictionary: {'A': ['Akash', 'Adam', 'Ajinkya', 'Alka'], 'C': 'Chloe', 'D': ['Dami', 'Divya'], 'G': ['Gaurav', 'Gilmara'], 'I': 'Imara', 'L': 'Leul', 'M': 'Mehrnaz', 'O': 'Ola', 'P': 'Pray', 'R': ['Rasha', 'Riley'], 'S': ['Suga', 'Sowjanya', 'Saman', 'Saloni', 'Sidney'], 'T': ['Temi', 'Tony'], ('K', 'PD'): 'Kristina'}\n"
     ]
    }
   ],
   "source": [
    "#Q7 Delete the following keys from your dictionary \n",
    "#Key<(S,Instructor)>\n",
    "#Key<J>\n",
    "keys_to_remove=[('S', 'Instructor'),'J']\n",
    "for key in keys_to_remove:\n",
    "    del JDA_Participants[key]\n",
    "    \n",
    "print(\"New dictionary:\",JDA_Participants)\n"
   ]
  },
  {
   "cell_type": "code",
   "execution_count": 38,
   "metadata": {},
   "outputs": [
    {
     "name": "stdout",
     "output_type": "stream",
     "text": [
      "length of new dictionary: 13\n"
     ]
    }
   ],
   "source": [
    "#Q9 Find the length of your dictionary \n",
    "Length=len(JDA_Participants)\n",
    "print(\"length of new dictionary:\",Length)"
   ]
  },
  {
   "cell_type": "code",
   "execution_count": 40,
   "metadata": {},
   "outputs": [
    {
     "data": {
      "text/plain": [
       "dict"
      ]
     },
     "execution_count": 40,
     "metadata": {},
     "output_type": "execute_result"
    }
   ],
   "source": [
    "#Q10 Create a new dictionary called synonyms_dic\n",
    "synonyms_dic={}\n",
    "type(synonyms_dic)\n"
   ]
  },
  {
   "cell_type": "code",
   "execution_count": 41,
   "metadata": {},
   "outputs": [
    {
     "name": "stdout",
     "output_type": "stream",
     "text": [
      "{'bad': 'poor', 'good': 'fine', 'awesome': 'amazing', 'cold': 'chilly', 'easy': 'simple', 'hard': 'firm', 'big': 'large', 'small': 'little'}\n"
     ]
    }
   ],
   "source": [
    "#Q11 Add the synonyms of the following words to your dictionary \n",
    "#Bad, Good, Awesome, Cold, Easy, Hard, Big, Small\n",
    "synonyms_dic={\"bad\":\"poor\",\"good\":\"fine\",\"awesome\":\"amazing\",\"cold\":\"chilly\",\"easy\":\"simple\",\"hard\":\"firm\",\"big\":\"large\",\"small\":\"little\"}\n",
    "print(synonyms_dic)\n"
   ]
  },
  {
   "cell_type": "code",
   "execution_count": 59,
   "metadata": {},
   "outputs": [
    {
     "name": "stdout",
     "output_type": "stream",
     "text": [
      "['amazing', 'simple', 'little']\n"
     ]
    }
   ],
   "source": [
    "#Q12 Use your dictionary to find the synonym of the following words \n",
    "# Awesome, Easy, Small, Old\n",
    "synonyms_dic={\"Bad\":\"poor\",\"Good\":\"fine\",\"Awesome\":\"amazing\",\"Cold\":\"chilly\",\"Easy\":\"simple\",\"Hard\":\"firm\",\"Big\":\"large\",\"Small\":\"little\"}\n",
    "synonyms_to_find=[ \"Awesome\", \"Easy\", \"Small\",\"Old\"]\n",
    "\n",
    "new_list=[synonyms_dic[i] for i in synonyms_to_find if i in synonyms_dic]\n",
    "print(new_list)\n",
    "    \n",
    "    "
   ]
  },
  {
   "cell_type": "code",
   "execution_count": 61,
   "metadata": {},
   "outputs": [
    {
     "name": "stdout",
     "output_type": "stream",
     "text": [
      "{}\n"
     ]
    }
   ],
   "source": [
    "#Q13 Delete everything from synonyms_dic\n",
    "\n",
    "synonyms_dic.clear()\n",
    "print(synonyms_dic)"
   ]
  },
  {
   "cell_type": "code",
   "execution_count": 62,
   "metadata": {},
   "outputs": [
    {
     "data": {
      "text/plain": [
       "dict_values([])"
      ]
     },
     "execution_count": 62,
     "metadata": {},
     "output_type": "execute_result"
    }
   ],
   "source": [
    "#Q14 Print all values in synonyms_dic\n",
    "synonyms_dic.values()"
   ]
  },
  {
   "cell_type": "code",
   "execution_count": 75,
   "metadata": {},
   "outputs": [
    {
     "name": "stdout",
     "output_type": "stream",
     "text": [
      "created dictionary: {'True': 0, 'False': 0}\n"
     ]
    }
   ],
   "source": [
    "#Q15 Convert the below two lists into dictionary\n",
    "test_Keys=[\"True\",\"False\"]\n",
    "test_Values=[1,0]\n",
    "con_dic={}\n",
    "for key in test_Keys:\n",
    "    for value in test_Values:\n",
    "        con_dic[key]=value\n",
    "print(\"created dictionary:\",con_dic)"
   ]
  },
  {
   "cell_type": "markdown",
   "metadata": {},
   "source": [
    "# Q16 Sum all the values in the following dictionary\n",
    "income={'Jan':1000,'Feb':1500,'Mar':980,'April':1000}\n"
   ]
  },
  {
   "cell_type": "code",
   "execution_count": 105,
   "metadata": {},
   "outputs": [
    {
     "name": "stdout",
     "output_type": "stream",
     "text": [
      "dict_values([1000, 1500, 980, 1000])\n",
      "addition of values 4480\n"
     ]
    }
   ],
   "source": [
    "income={'Jan':1000,'Feb':1500,'Mar':980,'April':1000}\n",
    "values_list=income.values()\n",
    "print(values_list)\n",
    "add=0\n",
    "for value in values_list:\n",
    "    add=add+value\n",
    "print(\"addition of values\",add)\n",
    "    "
   ]
  },
  {
   "cell_type": "code",
   "execution_count": 93,
   "metadata": {},
   "outputs": [
    {
     "name": "stdout",
     "output_type": "stream",
     "text": [
      "{10: 'hungry', 101: 'am', 110: 'I', 1011: ',', 1101: 'eat', 1001: 'want', 111: 'to'}\n",
      "[110, 101, 10, 1011, 110, 1001, 111, 1101]\n",
      "I am hungry , I want to eat "
     ]
    }
   ],
   "source": [
    "#Q17 Create the following dictionary encryption={10:\"hungry\", 101:\"am\", 110:\"I\", 1011:\",\" ,1101:\"eat\", 1001:\"want\", 111:\"to\"}\n",
    "# What should the the decryption of the following code \"110 101 10 1011 110 1001 111 1101\"\n",
    "encryption={10:\"hungry\", 101:\"am\", 110:\"I\", 1011:\",\" ,1101:\"eat\", 1001:\"want\", 111:\"to\"}\n",
    "print(encryption)\n",
    "code= \"110 101 10 1011 110 1001 111 1101\"\n",
    "decry_code=code.split()\n",
    "code_in_integers=[int(i) for i in decry_code]\n",
    "print(code_in_integers)\n",
    "for code in code_in_integers:\n",
    "    print(encryption[code], end=' ')\n",
    "\n",
    "\n",
    "\n"
   ]
  },
  {
   "cell_type": "code",
   "execution_count": null,
   "metadata": {},
   "outputs": [],
   "source": []
  }
 ],
 "metadata": {
  "kernelspec": {
   "display_name": "Python 3",
   "language": "python",
   "name": "python3"
  },
  "language_info": {
   "codemirror_mode": {
    "name": "ipython",
    "version": 3
   },
   "file_extension": ".py",
   "mimetype": "text/x-python",
   "name": "python",
   "nbconvert_exporter": "python",
   "pygments_lexer": "ipython3",
   "version": "3.8.5"
  }
 },
 "nbformat": 4,
 "nbformat_minor": 4
}
