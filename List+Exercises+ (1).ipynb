{
 "cells": [
  {
   "cell_type": "code",
   "execution_count": 1,
   "metadata": {},
   "outputs": [
    {
     "name": "stdout",
     "output_type": "stream",
     "text": [
      "('Sarah', 'Temi', 'Gilmara', 'Suha', 'Sowji', 'Tony', 'Chloe', 'Winnie', 'Dami', 'Rasha', 'Divya', 'Alka', 'Winnie', 'Riley', 'Pray', 'Ajinkya', 'Leul')\n"
     ]
    }
   ],
   "source": [
    "#Q1 Create a tuple with all participant names in the JDA program\n",
    "JDA_Participants=(\"Sarah\",\"Temi\",\"Gilmara\",\"Suha\",\"Sowji\",\"Tony\",\"Chloe\",\"Winnie\",\"Dami\",\"Rasha\",\"Divya\",\"Alka\",\"Winnie\",\"Riley\",\"Pray\",\"Ajinkya\",\"Leul\")\n",
    "print(JDA_Participants)"
   ]
  },
  {
   "cell_type": "code",
   "execution_count": 18,
   "metadata": {},
   "outputs": [
    {
     "name": "stdout",
     "output_type": "stream",
     "text": [
      "List of JDA participants are: ['Sarah', 'Temi', 'Gilmara', 'Suha', 'Sowji', 'Tony', 'Chloe', 'Winnie', 'Dami', 'Rasha', 'Divya', 'Alka', 'Winnie', 'Riley', 'Pray', 'Ajinkya', 'Leul']\n"
     ]
    }
   ],
   "source": [
    "#Q2 Convert the tuple into a list called pps_L\n",
    "pps_L=list(JDA_Participants)\n",
    "print(\"List of JDA participants are:\",pps_L)"
   ]
  },
  {
   "cell_type": "code",
   "execution_count": 19,
   "metadata": {},
   "outputs": [
    {
     "name": "stdout",
     "output_type": "stream",
     "text": [
      "Length of list is: 17\n"
     ]
    }
   ],
   "source": [
    "#Q3 What is the length of your list \n",
    "print(\"Length of list is:\",len(pps_L))"
   ]
  },
  {
   "cell_type": "code",
   "execution_count": 37,
   "metadata": {},
   "outputs": [
    {
     "name": "stdout",
     "output_type": "stream",
     "text": [
      "Suha\n",
      "Tony\n",
      "Pray\n"
     ]
    }
   ],
   "source": [
    "#Q4 Find the values stored in indexes [3],[5],[14],[30],[38]\n",
    "index_no=[3,5,14,30,38]\n",
    "for i in index_no:\n",
    "    if i<=len(pps_L):\n",
    "      print(pps_L[i])\n",
    "    \n"
   ]
  },
  {
   "cell_type": "code",
   "execution_count": 12,
   "metadata": {},
   "outputs": [
    {
     "data": {
      "text/plain": [
       "True"
      ]
     },
     "execution_count": 12,
     "metadata": {},
     "output_type": "execute_result"
    }
   ],
   "source": [
    "#Q5 Check if \"Sarah\" is in the list\n",
    "\"Sarah\" in pps_L"
   ]
  },
  {
   "cell_type": "code",
   "execution_count": 20,
   "metadata": {},
   "outputs": [
    {
     "name": "stdout",
     "output_type": "stream",
     "text": [
      "New list generated: ['Sarah', 'Temi', 'Gilmara', 'Suha', 'Sowji', 'Tony', 'Chloe', 'Winnie', 'Dami', 'Rasha', 'Divya', 'Alka', 'Winnie', 'Riley', 'Pray', 'Ajinkya', 'Leul', 'Sarah']\n"
     ]
    },
    {
     "data": {
      "text/plain": [
       "18"
      ]
     },
     "execution_count": 20,
     "metadata": {},
     "output_type": "execute_result"
    }
   ],
   "source": [
    "#Q6 Add \"Sarah\" to your list\n",
    "pps_L.append(\"Sarah\")\n",
    "print(\"New list generated:\",pps_L)\n",
    "len(pps_L)"
   ]
  },
  {
   "cell_type": "code",
   "execution_count": 15,
   "metadata": {},
   "outputs": [
    {
     "data": {
      "text/plain": [
       "False"
      ]
     },
     "execution_count": 15,
     "metadata": {},
     "output_type": "execute_result"
    }
   ],
   "source": [
    "#Q7 Check if \"Bashir\" is in the list\n",
    "\"Bashir\" in pps_L"
   ]
  },
  {
   "cell_type": "code",
   "execution_count": 21,
   "metadata": {},
   "outputs": [
    {
     "name": "stdout",
     "output_type": "stream",
     "text": [
      "New list generated is: ['Sarah', 'Temi', 'Gilmara', 'Suha', 'Sowji', 'Tony', 'Chloe', 'Winnie', 'Dami', 'Rasha', 'Divya', 'Alka', 'Winnie', 'Riley', 'Pray', 'Ajinkya', 'Leul', 'Sarah', 'Bashir']\n"
     ]
    }
   ],
   "source": [
    "#Q9 Add \"Bashir\" to your list\n",
    "pps_L.append(\"Bashir\")\n",
    "print(\"New list generated is:\",pps_L)"
   ]
  },
  {
   "cell_type": "code",
   "execution_count": 28,
   "metadata": {},
   "outputs": [
    {
     "name": "stdout",
     "output_type": "stream",
     "text": [
      "Index of Sarah is:  0\n"
     ]
    }
   ],
   "source": [
    "#Q10 Find the index of the element \"Sarah\" in the list\n",
    "Iof_Sarah=pps_L.index(\"Sarah\")\n",
    "print(\"Index of Sarah is: \",Iof_Sarah)"
   ]
  },
  {
   "cell_type": "code",
   "execution_count": 32,
   "metadata": {},
   "outputs": [
    {
     "name": "stdout",
     "output_type": "stream",
     "text": [
      "List after applying changes: ['Instructor', 'Temi', 'Gilmara', 'Suha', 'Sowji', 'Tony', 'Chloe', 'Winnie', 'Dami', 'Rasha', 'Instructor', 'Alka', 'Winnie', 'Riley', 'Pray', 'Ajinkya', 'Leul', 'Instructor', 'Bashir']\n"
     ]
    }
   ],
   "source": [
    "#Q11 Change the value of the index in Q10 from \"Sarah\" to \"Instructor\"\n",
    "#pps_L[10]=\"Instructor\"\n",
    "pps_L=[\"Instructor\" if i==\"Sarah\" else i for i in pps_L]\n",
    "print(\"List after applying changes:\",pps_L)\n",
    "\n",
    "    \n"
   ]
  },
  {
   "cell_type": "code",
   "execution_count": 29,
   "metadata": {},
   "outputs": [
    {
     "name": "stdout",
     "output_type": "stream",
     "text": [
      "Index od Bashir is 18\n"
     ]
    }
   ],
   "source": [
    "#Q12 Find the index of the element \"Bashir\" in the list\n",
    "IOF_Bashir=pps_L.index(\"Bashir\" )\n",
    "print(\"Index od Bashir is\",IOF_Bashir)"
   ]
  },
  {
   "cell_type": "code",
   "execution_count": 33,
   "metadata": {},
   "outputs": [
    {
     "name": "stdout",
     "output_type": "stream",
     "text": [
      "List after applying changes: ['Instructor', 'Temi', 'Gilmara', 'Suha', 'Sowji', 'Tony', 'Chloe', 'Winnie', 'Dami', 'Rasha', 'Instructor', 'Alka', 'Winnie', 'Riley', 'Pray', 'Ajinkya', 'Leul', 'Instructor', 'Peer-Mentor']\n"
     ]
    }
   ],
   "source": [
    "#Q13 Change the value of the index in Q12 from \"Bashir\" to \"Peer-Mentor\"\n",
    "#pps_L[12]=\"Peer-Mentor\"\n",
    "pps_L=[\"Peer-Mentor\" if i==\"Bashir\" else i for i in pps_L]\n",
    "print(\"List after applying changes:\",pps_L)"
   ]
  },
  {
   "cell_type": "code",
   "execution_count": null,
   "metadata": {},
   "outputs": [],
   "source": []
  }
 ],
 "metadata": {
  "kernelspec": {
   "display_name": "Python 3",
   "language": "python",
   "name": "python3"
  },
  "language_info": {
   "codemirror_mode": {
    "name": "ipython",
    "version": 3
   },
   "file_extension": ".py",
   "mimetype": "text/x-python",
   "name": "python",
   "nbconvert_exporter": "python",
   "pygments_lexer": "ipython3",
   "version": "3.8.5"
  }
 },
 "nbformat": 4,
 "nbformat_minor": 4
}
